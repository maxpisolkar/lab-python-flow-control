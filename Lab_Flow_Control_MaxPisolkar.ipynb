{
 "cells": [
  {
   "cell_type": "code",
   "execution_count": 77,
   "id": "51352a7f-7b51-404f-be64-d7cd87c010c5",
   "metadata": {},
   "outputs": [
    {
     "name": "stdin",
     "output_type": "stream",
     "text": [
      "Enter quantity for t-shirt:  5\n",
      "Enter quantity for mug:  6\n",
      "Enter quantity for hat:  7\n",
      "Enter quantity for book:  9\n",
      "Enter quantity for keychain:  10\n"
     ]
    },
    {
     "name": "stdout",
     "output_type": "stream",
     "text": [
      "{'t-shirt': 5, 'mug': 6, 'hat': 7, 'book': 9, 'keychain': 10}\n"
     ]
    }
   ],
   "source": [
    "products = [\"t-shirt\", \"mug\", \"hat\", \"book\", \"keychain\"]\n",
    "inventory = {}\n",
    "for product in products:\n",
    "    quantity = int(input(f\"Enter quantity for {product}: \"))\n",
    "    inventory[product] = quantity\n",
    "print(inventory)"
   ]
  },
  {
   "cell_type": "code",
   "execution_count": 81,
   "id": "047b901c-9b9e-45dc-a6b4-178adf7ec597",
   "metadata": {},
   "outputs": [
    {
     "name": "stdin",
     "output_type": "stream",
     "text": [
      "Would you like to add an item? (Yes or No) yes\n",
      "Enter name of item: tv\n"
     ]
    },
    {
     "name": "stdout",
     "output_type": "stream",
     "text": [
      "Item not in stock, please choose another\n"
     ]
    },
    {
     "name": "stdin",
     "output_type": "stream",
     "text": [
      "Would you like to add another item? (Yes or No):  Yes\n",
      "Enter name of item: table\n"
     ]
    },
    {
     "name": "stdout",
     "output_type": "stream",
     "text": [
      "Item not in stock, please choose another\n"
     ]
    },
    {
     "name": "stdin",
     "output_type": "stream",
     "text": [
      "Would you like to add another item? (Yes or No):  no\n"
     ]
    },
    {
     "name": "stdout",
     "output_type": "stream",
     "text": [
      "Thank you for visiting the shop\n",
      "The items you want to order are: \n"
     ]
    }
   ],
   "source": [
    "customer_orders = set()\n",
    "answer = input(f\"Would you like to add an item? (Yes or No)\").strip().lower()\n",
    "while answer == \"yes\":\n",
    "        name = str(input(f\"Enter name of item:\")).strip().lower()\n",
    "        if name in products:\n",
    "            customer_orders.add(name)\n",
    "        else:\n",
    "            print(\"Item not in stock, please choose another.\")\n",
    "        answer = input(\"Would you like to add another item? (Yes or No): \").strip().lower()\n",
    "else:print(\"Thank you for visiting the shop :)\")\n",
    "print(\"The items you want to order are: \" + \", \".join(customer_orders))"
   ]
  },
  {
   "cell_type": "code",
   "execution_count": 37,
   "id": "e36232b4-82dc-48ed-9abf-1690e0f9f357",
   "metadata": {},
   "outputs": [
    {
     "name": "stdout",
     "output_type": "stream",
     "text": [
      "{'hat': 55}\n"
     ]
    }
   ],
   "source": [
    "customer_order_quantities = {}\n",
    "for product, quantity in inventory.items():\n",
    "    if product in customer_orders:\n",
    "        customer_order_quantities[product] = quantity\n",
    "        \n",
    "print(customer_order_quantities)\n",
    "        "
   ]
  },
  {
   "cell_type": "code",
   "execution_count": 53,
   "id": "4b0510d3-6f6b-4a81-9c79-d5dbaf0ffd73",
   "metadata": {},
   "outputs": [
    {
     "name": "stdout",
     "output_type": "stream",
     "text": [
      "The total number of products ordered are: 1\n"
     ]
    }
   ],
   "source": [
    "total_products_ordered = len(customer_orders)\n",
    "percentage_ordered = (total_products_ordered / len(products)) * 100\n",
    "order_status = (total_products_ordered, percentage_ordered)\n",
    "print(f\"The total number of products ordered are: {total_products_ordered}\")"
   ]
  },
  {
   "cell_type": "code",
   "execution_count": 63,
   "id": "ecca0e1a-daeb-4a82-83a6-c17a666d9704",
   "metadata": {},
   "outputs": [
    {
     "name": "stdout",
     "output_type": "stream",
     "text": [
      "The total number of products available are: 5\n"
     ]
    }
   ],
   "source": [
    "total_available_products = len(products)\n",
    "print(f\"The total number of products available are: {total_available_products}\")"
   ]
  },
  {
   "cell_type": "code",
   "execution_count": 65,
   "id": "aeb104db-ccd4-4e05-ae45-03c918b4a0d5",
   "metadata": {},
   "outputs": [
    {
     "name": "stdout",
     "output_type": "stream",
     "text": [
      "The percentage of products ordered is: 20.0%\n"
     ]
    }
   ],
   "source": [
    "percentage_products_ordered=(total_products_ordered/total_available_products) * 100\n",
    "print(f\"The percentage of products ordered is: {percentage_products_ordered}%\")"
   ]
  },
  {
   "cell_type": "code",
   "execution_count": 67,
   "id": "4a4b4125-0900-4d66-affc-9df1ab81220f",
   "metadata": {},
   "outputs": [
    {
     "name": "stdout",
     "output_type": "stream",
     "text": [
      "Order Statistics:\n",
      "   Total Products Ordered: 1\n",
      "   Percentage of Products Ordered: 20.0%\n"
     ]
    }
   ],
   "source": [
    "order_status = (total_products_ordered, total_available_products, percentage_products_ordered)\n",
    "print(f\"Order Statistics:\\n   Total Products Ordered: {total_products_ordered}\\n   Percentage of Products Ordered: {percentage_products_ordered}%\")\n",
    "\n"
   ]
  },
  {
   "cell_type": "code",
   "execution_count": 69,
   "id": "d05a5def-e33d-4797-bd74-72bd587c18fb",
   "metadata": {},
   "outputs": [],
   "source": [
    "for product in customer_orders:\n",
    "    inventory[product] -= 1"
   ]
  },
  {
   "cell_type": "code",
   "execution_count": 73,
   "id": "9a994aec-5042-48ce-b23d-6495fe337151",
   "metadata": {},
   "outputs": [
    {
     "name": "stdout",
     "output_type": "stream",
     "text": [
      "{'t-shirt': 55, 'mug': 55, 'hat': 53, 'book': 55, 'keychain': 55} \n",
      "\n"
     ]
    }
   ],
   "source": [
    "print(inventory, \"\\n\")"
   ]
  },
  {
   "cell_type": "code",
   "execution_count": 75,
   "id": "2d99327f-bb57-4cc6-8f37-4ffb91020bde",
   "metadata": {},
   "outputs": [
    {
     "name": "stdout",
     "output_type": "stream",
     "text": [
      "t-shirt, 55\n",
      "mug, 55\n",
      "hat, 53\n",
      "book, 55\n",
      "keychain, 55\n"
     ]
    }
   ],
   "source": [
    "for product, quantity in inventory.items():\n",
    "    print(f\"{product}, {quantity}\")"
   ]
  },
  {
   "cell_type": "code",
   "execution_count": null,
   "id": "1528a688-452b-4cc2-afd7-b5042b8dfda7",
   "metadata": {},
   "outputs": [],
   "source": []
  }
 ],
 "metadata": {
  "kernelspec": {
   "display_name": "Python [conda env:base] *",
   "language": "python",
   "name": "conda-base-py"
  },
  "language_info": {
   "codemirror_mode": {
    "name": "ipython",
    "version": 3
   },
   "file_extension": ".py",
   "mimetype": "text/x-python",
   "name": "python",
   "nbconvert_exporter": "python",
   "pygments_lexer": "ipython3",
   "version": "3.12.7"
  }
 },
 "nbformat": 4,
 "nbformat_minor": 5
}
